{
 "cells": [
  {
   "cell_type": "code",
   "execution_count": null,
   "metadata": {},
   "outputs": [],
   "source": [
    "import os\n",
    "import sys\n",
    "import numpy as np\n",
    "import pickle\n",
    "import cv2\n",
    "\n",
    "\n",
    "\n",
    "# # print(type(data))\n",
    "# # print(data[0]['pov'])\n",
    "# print(len(data)) # number of steps\n",
    "# print(len(data[0]['pov'])) # number of envs\n",
    "# print(np.shape(data[0]['pov'])) # 2,360,640,3\n",
    "\n",
    "# data1 = data[0]['pov'][0] # 0-step, pov-keys, 0-env_idx\n",
    "# print(np.shape(data1))\n",
    "\n",
    "\n",
    "def extract_obs_pov(file_path):\n",
    "    '''\n",
    "    \n",
    "    Extract POV from the observation file\n",
    "    Args:\n",
    "        file_path (str): path to the observation file\n",
    "        POV (dict): dict of np array of POV for each env\n",
    "\n",
    "    '''\n",
    "\n",
    "    with open(file_path, 'rb') as f:\n",
    "        data = pickle.load(f)\n",
    "\n",
    "    steps = len(data)\n",
    "    num_env = len(data[0]['pov'])\n",
    "\n",
    "    # init dict and populate with POV\n",
    "    POV = {env: [] for env in range(num_env)}\n",
    "    for step in range(steps):\n",
    "        for env in range(num_env):\n",
    "            POV[env].append(data[step]['pov'][env])\n",
    "\n",
    "    #convert to np array\n",
    "    for env in POV:\n",
    "        POV[env] = np.array(POV[env])\n",
    "\n",
    "    return POV\n",
    "\n",
    "def gen_vid_from_pov(pov_dict, output_dir, fps=15):\n",
    "    \"\"\"\n",
    "    Generate videos from the POV dictionary.\n",
    "\n",
    "    Args:\n",
    "        pov_dict (dict): Dictionary where each key is an environment index, and each value is a NumPy array of shape (steps, height, width, 3).\n",
    "        output_dir (str): Directory to save the generated videos.\n",
    "        fps (int): Frames per second for the videos.\n",
    "    \"\"\"\n",
    "    os.makedirs(output_dir, exist_ok=True)\n",
    "\n",
    "    for env_idx, frames in pov_dict.items():\n",
    "        if len(frames) == 0:\n",
    "            print(f\"No frames available for environment {env_idx}, skipping video creation.\")\n",
    "            continue\n",
    "\n",
    "        # Define video file path\n",
    "        video_path = os.path.join(output_dir, f\"env_{env_idx}.mp4\")\n",
    "\n",
    "        # Get frame dimensions\n",
    "        frame_height, frame_width, _ = frames[0].shape\n",
    "\n",
    "        # Initialize video writer\n",
    "        fourcc = cv2.VideoWriter_fourcc(*'mp4v')\n",
    "        video_writer = cv2.VideoWriter(video_path, fourcc, fps, (frame_width, frame_height))\n",
    "\n",
    "        # Write frames to the video\n",
    "        for frame in frames:\n",
    "            frame_bgr = cv2.cvtColor(frame, cv2.COLOR_RGB2BGR)  # Convert RGB to BGR\n",
    "            video_writer.write(frame_bgr)\n",
    "\n",
    "        # Release the video writer\n",
    "        video_writer.release()\n",
    "        print(f\"Video saved for environment {env_idx} at: {video_path}\")"
   ]
  },
  {
   "cell_type": "code",
   "execution_count": 2,
   "metadata": {},
   "outputs": [
    {
     "name": "stdout",
     "output_type": "stream",
     "text": [
      "Video saved for environment 0 at: ./001/output_videos\\env_0.mp4\n",
      "Video saved for environment 1 at: ./001/output_videos\\env_1.mp4\n",
      "Video saved for environment 2 at: ./001/output_videos\\env_2.mp4\n",
      "Video saved for environment 3 at: ./001/output_videos\\env_3.mp4\n"
     ]
    }
   ],
   "source": [
    "file_path = r\"F:\\16831_RL\\Proj\\MC_RL\\Playground\\001\\all_observations.pkl\"\n",
    "output_video_dir = \"./001/output_videos\"\n",
    "\n",
    "POV = extract_obs_pov(file_path)\n",
    "\n",
    "gen_vid_from_pov(POV, output_video_dir, fps=15)"
   ]
  }
 ],
 "metadata": {
  "kernelspec": {
   "display_name": "MC",
   "language": "python",
   "name": "python3"
  },
  "language_info": {
   "codemirror_mode": {
    "name": "ipython",
    "version": 3
   },
   "file_extension": ".py",
   "mimetype": "text/x-python",
   "name": "python",
   "nbconvert_exporter": "python",
   "pygments_lexer": "ipython3",
   "version": "3.10.15"
  }
 },
 "nbformat": 4,
 "nbformat_minor": 2
}
